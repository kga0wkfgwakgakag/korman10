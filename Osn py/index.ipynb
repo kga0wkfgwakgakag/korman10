{
 "cells": [
  {
   "cell_type": "markdown",
   "metadata": {},
   "source": [
    "##Ознайомлюємось з основними типами даних"
   ]
  },
  {
   "cell_type": "code",
   "execution_count": 6,
   "metadata": {},
   "outputs": [
    {
     "name": "stdout",
     "output_type": "stream",
     "text": [
      "String: змінна з текстом\n",
      "Number: 1\n",
      "List: ['a', 1, 1.25, 'Слово']\n",
      "Dict: {'a': 'Слово', 'b': 1}\n",
      "Tuple: ('a',)\n",
      "Set: {'ss'}\n"
     ]
    }
   ],
   "source": [
    "a = \"змінна з текстом\"\n",
    "b = 1 # числова Змінна\n",
    "c = [\"a\", 1, 1.25, \"Слово\"] # List\n",
    "d = {\"a\": \"Слово\", \"b\": 1} # Dict\n",
    "e = (\"a\", ) # Tuple\n",
    "f = {\"ss\", } # Set\n",
    "\n",
    "print(f'String: {a}\\nNumber: {b}\\nList: {c}\\nDict: {d}\\nTuple: {e}\\nSet: {f}');"
   ]
  },
  {
   "cell_type": "markdown",
   "metadata": {},
   "source": [
    "##Вбудовані константи"
   ]
  },
  {
   "cell_type": "code",
   "execution_count": 7,
   "metadata": {},
   "outputs": [
    {
     "name": "stdout",
     "output_type": "stream",
     "text": [
      "False r {}\n"
     ]
    }
   ],
   "source": [
    "print(False, 'r', {})"
   ]
  },
  {
   "cell_type": "markdown",
   "metadata": {},
   "source": [
    "##Вбудовані функції"
   ]
  },
  {
   "cell_type": "code",
   "execution_count": 8,
   "metadata": {},
   "outputs": [
    {
     "name": "stdout",
     "output_type": "stream",
     "text": [
      "1.2312925537534685 -1.0 2\n"
     ]
    }
   ],
   "source": [
    "from math import ceil, cos, pi\n",
    "from random import random\n",
    "\n",
    "\n",
    "print(random() * 2, cos(pi), ceil(1.0041241))"
   ]
  },
  {
   "cell_type": "markdown",
   "metadata": {},
   "source": [
    "##Цикли"
   ]
  },
  {
   "cell_type": "code",
   "execution_count": 9,
   "metadata": {},
   "outputs": [
    {
     "name": "stdout",
     "output_type": "stream",
     "text": [
      "0#X\n",
      "#0X\n",
      "##0\n"
     ]
    }
   ],
   "source": [
    "matrix = [['0', '#', 'X'], ['#', '0', 'X'], ['#', '#', '0']]\n",
    "\n",
    "for row in matrix:\n",
    "    str = ''\n",
    "    for ceil in row:\n",
    "        str += (ceil)\n",
    "    print(str)"
   ]
  },
  {
   "cell_type": "markdown",
   "metadata": {},
   "source": [
    "##Розгалуження"
   ]
  },
  {
   "cell_type": "code",
   "execution_count": 10,
   "metadata": {},
   "outputs": [
    {
     "name": "stdout",
     "output_type": "stream",
     "text": [
      "Час ---> 09:54:08\n"
     ]
    }
   ],
   "source": [
    "hour = 9\n",
    "hour0 = f\"0{hour}\"\n",
    "minutes = 54\n",
    "minutes0 = f\"0{minutes}\"\n",
    "seconds = 8\n",
    "seconds0 = f\"0{seconds}\"\n",
    "\n",
    "print(f\"Час ---> {hour if hour >= 10 else hour0}:{minutes if minutes >= 10 else minutes0}:{seconds if seconds >= 10 else seconds0}\")"
   ]
  },
  {
   "cell_type": "markdown",
   "metadata": {},
   "source": [
    "##Конструкція try-except"
   ]
  },
  {
   "cell_type": "code",
   "execution_count": 11,
   "metadata": {},
   "outputs": [
    {
     "name": "stdout",
     "output_type": "stream",
     "text": [
      "Намагаємось помножити не помножуване\n",
      "слонслонслон\n",
      "У нас вийшло!\n",
      "Ну нормально впринципі\n"
     ]
    }
   ],
   "source": [
    "A = 0\n",
    "try:\n",
    "    print(\"Намагаємось помножити не помножуване\")\n",
    "    print(\"слон\" * 3)\n",
    "    print(\"У нас вийшло!\")\n",
    "except Exception as e:\n",
    "    print(e)\n",
    "finally:\n",
    "    print(\"Ну нормально впринципі\")\n"
   ]
  },
  {
   "cell_type": "markdown",
   "metadata": {},
   "source": [
    "##Контекст менеджер"
   ]
  },
  {
   "cell_type": "code",
   "execution_count": 12,
   "metadata": {},
   "outputs": [
    {
     "name": "stdout",
     "output_type": "stream",
     "text": [
      "# Р—РІС–С‚ РґРѕ СЂРѕР±РѕС‚Рё\n",
      "\n",
      "## РўРµРјР°: РћСЃРЅРѕРІРё РїСЂРѕРіСЂР°РјСѓРІР°РЅРЅСЏ РЅР° Python\n",
      "\n",
      "### РњРµС‚Р° СЂРѕР±РѕС‚Рё: Р—Р°СЃРІРѕС—С‚Рё РѕСЃРЅРѕРІРё РїСЂРѕРіСЂР°РјСѓРІР°РЅРЅСЏ РЅР° Python\n",
      "\n",
      "---\n",
      "\n",
      "### Р’РёРєРѕРЅР°РЅРЅСЏ СЂРѕР±РѕС‚Рё\n",
      "\n",
      "- Р РµР·СѓР»СЊС‚Р°С‚Рё РІРёРєРѕРЅР°РЅРЅСЏ Р·Р°РІРґР°РЅРЅСЏ *1...N*;\n",
      "\n",
      "    1. РћР·РЅР°Р№РѕРјРёРІСЃСЏ С–Р· С‚РёРїР°РјРё РґР°РЅРёС…\n",
      "\n",
      "    1. РћР·РЅР°Р№РѕРјРёРІСЃСЏ Р· РєРѕРЅСЃС‚Р°РЅС‚Р°РјРё\n",
      "\n",
      "    1. РџСЂРѕРІС–СЂРёРІ СЂРѕР±РѕС‚Сѓ РІР±СѓРґРѕРІР°РЅРёС… С„СѓРЅРєС†С–Р№\n",
      "\n",
      "    1. РћР·РЅР°Р№РѕРјРёРІСЃСЏ С–Р· С†РёРєР»Р°РјРё\n",
      "\n",
      "    1. Р’РёРїСЂРѕР±СѓРІР°РІ СЂРѕР±РѕС‚Сѓ С‚РµСЂРЅР°СЂРЅРёС… СЂРѕР·РіР°Р»СѓР¶РµРЅСЊ\n",
      "\n",
      "    1. РќР°РїРёСЃР°РІ РєРѕРґ РґР»СЏ РєРѕРЅСЃС‚СЂСѓРєС†С–С— try->except->finally\n",
      "\n",
      "    1. РљРѕРЅС‚РµРєСЃС‚-РјРµРЅРµРґР¶РµСЂ with\n",
      "\n",
      "    1. РћР·РЅР°Р№РѕРјРёРІСЃСЏ Р· Python lambdas\n",
      "\n",
      "- РІСЃС‚Р°РІР»РµРЅС– СЂРёСЃСѓРЅРєРё (СЃРєСЂС–РЅС€РѕС‚Рё РµРєСЂР°РЅР° Р°Р±Рѕ С„РѕС‚РѕРіСЂР°С„С–С— РІРёРєРѕРЅР°РЅРѕРіРѕ Р·Р°РІРґР°РЅРЅСЏ Сѓ Р·РѕС€РёС‚С–);\n",
      "\n",
      "> СЏРєС‰Рѕ РіСЂР°С„С–С‡РЅРёС… С„Р°Р№Р»С–РІ Р±Р°РіР°С‚Рѕ С‚Рѕ РєСЂР°С‰Рµ РїРѕРјС–СЃС‚РёС‚Рё С—С… Сѓ РѕРєСЂРµРјСѓ РїР°РїРєСѓ, РЅР°РїСЂРёРєР»Р°Рґ Сѓ РјРµРЅРµ С†Рµ РїР°РїРєР° `pictures`. РЈРІР°Р¶РЅРѕ РґРёРІС–С‚СЊСЃСЏ РєРѕР»Рё РІСЃС‚Р°РІР»СЏС”С‚Рµ URL - С„Р°Р№Р» РјР°С” Р±СѓС‚Рё РїСЂРµРґСЃС‚Р°РІР»РµРЅРёРј СЏРє `raw`. \n",
      "\n",
      "\n",
      "\n",
      "![alt text](https://github.com/BobasB/it_college/raw/main/reports/pictures/logo-lit.jpg \"Р†Рў РљРѕР»РµРґР¶\")\n",
      "\n",
      "\n",
      "\n",
      "- РІСЃС‚Р°РІР»РµРЅРёР№ РєРѕРґ / С‚РµРєСЃС‚РѕРІРёР№ Р°Р±Рѕ С‡РёСЃР»РѕРІРёР№ СЂРµР·СѓР»СЊС‚Р°С‚ / С–РЅС€С– СЂРµР·СѓР»СЊС‚Р°С‚Рё:\n",
      "\n",
      "```python\n",
      "\n",
      "def simple_function_example():\n",
      "\n",
      "    pass\n",
      "\n",
      "```\n",
      "\n",
      "```text\n",
      "\n",
      "<< SOME text HERE >>\n",
      "\n",
      "```\n",
      "\n",
      "\n",
      "\n",
      "- СЂРµР·СѓР»СЊС‚Р°С‚Рё РІРёРєРѕРЅР°РЅРЅСЏ С–РЅРґРёРІС–РґСѓР°Р»СЊРЅРѕРіРѕ Р·Р°РІРґР°РЅРЅСЏ (СЏРєС‰Рѕ С‚Р°РєС– С”);\n",
      "\n",
      "\n",
      "\n",
      "### Р’РёСЃРЅРѕРІРѕРє: \n",
      "\n",
      "> Сѓ РІРёСЃРЅРѕРІРєСѓ РїРѕС‚СЂС–Р±РЅРѕ РІС–РґРїРѕРІС–СЃС‚Рё РЅР° Р·Р°РїРёС‚Р°РЅРЅСЏ:\n",
      "\n",
      "- :question: Р©Рѕ Р·СЂРѕР±Р»РµРЅРѕ РІ СЂРѕР±РѕС‚С–;\n",
      "\n",
      "- :question: Р§Рё РґРѕСЃСЏРіРЅСѓС‚Рѕ РјРµС‚Рё СЂРѕР±РѕС‚Рё;\n",
      "\n",
      "- :question: РЇРєС– РЅРѕРІС– Р·РЅР°РЅРЅСЏ РѕС‚СЂРёРјР°РЅРѕ;\n",
      "\n",
      "- :question: Р§Рё РІРґР°Р»РѕСЃСЊ РІС–РґРїРѕРІС–СЃС‚Рё РЅР° РІСЃС– РїРёС‚Р°РЅРЅСЏ Р·Р°РґР°РЅС– РІ С…РѕРґС– СЂРѕР±РѕС‚Рё;\n",
      "\n",
      "- :question: Р§Рё РІРґР°Р»РѕСЃСЏ РІРёРєРѕРЅР°С‚Рё РІСЃС– Р·Р°РІРґР°РЅРЅСЏ;\n",
      "\n",
      "- :question: Р§Рё РІРёРЅРёРєР»Рё СЃРєР»Р°РґРЅРѕСЃС‚С– Сѓ РІРёРєРѕРЅР°РЅРЅС– Р·Р°РІРґР°РЅРЅСЏ;\n",
      "\n",
      "- :question: Р§Рё РїРѕРґРѕР±Р°С”С‚СЊСЃСЏ С‚Р°РєРёР№ С„РѕСЂРјР°С‚ Р·РґР°С‡С– СЂРѕР±РѕС‚Рё (Feedback);\n",
      "\n",
      "- :question: РџРѕР±Р°Р¶Р°РЅРЅСЏ РґР»СЏ РїРѕРєСЂР°С‰РµРЅРЅСЏ (Suggestions);\n",
      "\n",
      "---\n"
     ]
    }
   ],
   "source": [
    "with open(\"README.md\", \"r\") as f:\n",
    "    for line in f:\n",
    "        print(line)"
   ]
  },
  {
   "cell_type": "markdown",
   "metadata": {},
   "source": [
    "##Python lambdas"
   ]
  },
  {
   "cell_type": "code",
   "execution_count": 13,
   "metadata": {},
   "outputs": [
    {
     "name": "stdout",
     "output_type": "stream",
     "text": [
      "Це просто функція: <function <lambda> at 0x00000182E24F1990>\n",
      "Це її виклик: Число в степені: 2^8=256\n"
     ]
    }
   ],
   "source": [
    "js_is_better = lambda first, last: f'Число в степені: {first}^{last}={pow(first, last)}'\n",
    "print(\"Це просто функція:\", js_is_better)\n",
    "print(\"Це її виклик:\", js_is_better(2, 8))"
   ]
  }
 ],
 "metadata": {
  "kernelspec": {
   "display_name": "Python 3.10.2 64-bit",
   "language": "python",
   "name": "python3"
  },
  "language_info": {
   "codemirror_mode": {
    "name": "ipython",
    "version": 3
   },
   "file_extension": ".py",
   "mimetype": "text/x-python",
   "name": "python",
   "nbconvert_exporter": "python",
   "pygments_lexer": "ipython3",
   "version": "3.10.2"
  },
  "orig_nbformat": 4,
  "vscode": {
   "interpreter": {
    "hash": "bb9d7a7fe8aa9601c25fc450dc71bd5f7ccbd20b54b6656b8dbf3e6eac2a77ef"
   }
  }
 },
 "nbformat": 4,
 "nbformat_minor": 2
}
